{
 "cells": [
  {
   "cell_type": "markdown",
   "id": "658cddcf",
   "metadata": {},
   "source": [
    "# Analyzing The Demand for Cars\n",
    "\n",
    "In this notebook we will see how to upload the data and explore it using tools we developed in the previous projects and using simple linear regression analysis.\n",
    "\n",
    "In this notebook we also look at the following topics:\n",
    "1. how to take a function of a column in a DataFrame, both for categorical variables (vehicle type) and for continuous variables (e.g. price).\n",
    "2. How to add more bells and whistles to the plots."
   ]
  },
  {
   "cell_type": "markdown",
   "id": "4f54cfd7",
   "metadata": {},
   "source": [
    "## Packages used"
   ]
  },
  {
   "cell_type": "code",
   "execution_count": 2,
   "id": "eb701c08",
   "metadata": {},
   "outputs": [],
   "source": [
    "# Packages used\n",
    "\n",
    "#to upload the data:\n",
    "import requests, json \n",
    "\n",
    "#for plotting:\n",
    "import matplotlib.pyplot as plt \n",
    "\n",
    "# Dataframes and math:\n",
    "import numpy as np\n",
    "import pandas as pd\n",
    "import math\n",
    "\n",
    "# K-means clustering\n",
    "from sklearn.cluster import KMeans\n",
    "\n",
    "# For linear regression\n",
    "import statsmodels.formula.api as smf"
   ]
  },
  {
   "cell_type": "code",
   "execution_count": 3,
   "id": "4bea3906",
   "metadata": {},
   "outputs": [],
   "source": [
    "#pip install statsmodels"
   ]
  },
  {
   "cell_type": "code",
   "execution_count": 4,
   "id": "d151dde2-f56c-45d9-b915-31d7a8f338ec",
   "metadata": {},
   "outputs": [],
   "source": [
    "import os\n",
    "os.environ[\"OMP_NUM_THREADS\"] = \"1\""
   ]
  },
  {
   "cell_type": "markdown",
   "id": "840dbdbb",
   "metadata": {},
   "source": [
    "## Uploading the data\n",
    "\n",
    "I created a JSON version of the 1996 data on car sales. It is put on my Github page."
   ]
  },
  {
   "cell_type": "code",
   "execution_count": 89,
   "id": "06a0b7cb",
   "metadata": {},
   "outputs": [],
   "source": [
    "url = \"https://raw.githubusercontent.com/ArieBeresteanu/Econ1923_Fall2022/main/Demand%20Estimation/cardata1996.json\"\n",
    "res = requests.get(url).json()\n",
    "cars = pd.DataFrame(res)"
   ]
  },
  {
   "cell_type": "code",
   "execution_count": 7,
   "id": "af3b179c",
   "metadata": {},
   "outputs": [
    {
     "name": "stdout",
     "output_type": "stream",
     "text": [
      "The data contains information on 185 cars and it has 17 columns.\n"
     ]
    }
   ],
   "source": [
    "n_cars, n_cols = cars.shape\n",
    "\n",
    "print(f\"The data contains information on {n_cars} cars and it has {n_cols} columns.\")"
   ]
  },
  {
   "cell_type": "code",
   "execution_count": 8,
   "id": "5a775e60",
   "metadata": {},
   "outputs": [
    {
     "data": {
      "text/html": [
       "<div>\n",
       "<style scoped>\n",
       "    .dataframe tbody tr th:only-of-type {\n",
       "        vertical-align: middle;\n",
       "    }\n",
       "\n",
       "    .dataframe tbody tr th {\n",
       "        vertical-align: top;\n",
       "    }\n",
       "\n",
       "    .dataframe thead th {\n",
       "        text-align: right;\n",
       "    }\n",
       "</style>\n",
       "<table border=\"1\" class=\"dataframe\">\n",
       "  <thead>\n",
       "    <tr style=\"text-align: right;\">\n",
       "      <th></th>\n",
       "      <th>car</th>\n",
       "      <th>year</th>\n",
       "      <th>firm_id</th>\n",
       "      <th>firm_name</th>\n",
       "      <th>division</th>\n",
       "      <th>model</th>\n",
       "      <th>segm1</th>\n",
       "      <th>Quantity</th>\n",
       "      <th>Price</th>\n",
       "      <th>wheel_base</th>\n",
       "      <th>length</th>\n",
       "      <th>width</th>\n",
       "      <th>weight</th>\n",
       "      <th>disp</th>\n",
       "      <th>hp</th>\n",
       "      <th>mpg_city</th>\n",
       "      <th>mpg_highway</th>\n",
       "    </tr>\n",
       "  </thead>\n",
       "  <tbody>\n",
       "    <tr>\n",
       "      <th>0</th>\n",
       "      <td>0</td>\n",
       "      <td>1996</td>\n",
       "      <td>3</td>\n",
       "      <td>HONDA</td>\n",
       "      <td>Acura</td>\n",
       "      <td>SLX</td>\n",
       "      <td>32</td>\n",
       "      <td>2565</td>\n",
       "      <td>34320</td>\n",
       "      <td>108.7</td>\n",
       "      <td>178.9</td>\n",
       "      <td>72.4</td>\n",
       "      <td>4315</td>\n",
       "      <td>3.2</td>\n",
       "      <td>190</td>\n",
       "      <td>14</td>\n",
       "      <td>18</td>\n",
       "    </tr>\n",
       "    <tr>\n",
       "      <th>1</th>\n",
       "      <td>0</td>\n",
       "      <td>1996</td>\n",
       "      <td>19</td>\n",
       "      <td>GM</td>\n",
       "      <td>Chevrolet</td>\n",
       "      <td>Astro</td>\n",
       "      <td>21</td>\n",
       "      <td>125962</td>\n",
       "      <td>19152</td>\n",
       "      <td>110.0</td>\n",
       "      <td>189.8</td>\n",
       "      <td>77.5</td>\n",
       "      <td>3398</td>\n",
       "      <td>4.3</td>\n",
       "      <td>190</td>\n",
       "      <td>17</td>\n",
       "      <td>22</td>\n",
       "    </tr>\n",
       "    <tr>\n",
       "      <th>2</th>\n",
       "      <td>0</td>\n",
       "      <td>1996</td>\n",
       "      <td>19</td>\n",
       "      <td>GM</td>\n",
       "      <td>Chevrolet</td>\n",
       "      <td>Blazer</td>\n",
       "      <td>32</td>\n",
       "      <td>246307</td>\n",
       "      <td>17406</td>\n",
       "      <td>107.0</td>\n",
       "      <td>176.8</td>\n",
       "      <td>65.4</td>\n",
       "      <td>3365</td>\n",
       "      <td>4.3</td>\n",
       "      <td>165</td>\n",
       "      <td>16</td>\n",
       "      <td>21</td>\n",
       "    </tr>\n",
       "    <tr>\n",
       "      <th>3</th>\n",
       "      <td>0</td>\n",
       "      <td>1996</td>\n",
       "      <td>19</td>\n",
       "      <td>GM</td>\n",
       "      <td>Chevrolet</td>\n",
       "      <td>Express/VAN</td>\n",
       "      <td>22</td>\n",
       "      <td>80203</td>\n",
       "      <td>21987</td>\n",
       "      <td>135.0</td>\n",
       "      <td>218.7</td>\n",
       "      <td>79.2</td>\n",
       "      <td>4641</td>\n",
       "      <td>4.3</td>\n",
       "      <td>195</td>\n",
       "      <td>15</td>\n",
       "      <td>19</td>\n",
       "    </tr>\n",
       "    <tr>\n",
       "      <th>4</th>\n",
       "      <td>0</td>\n",
       "      <td>1996</td>\n",
       "      <td>19</td>\n",
       "      <td>GM</td>\n",
       "      <td>Chevrolet</td>\n",
       "      <td>S10</td>\n",
       "      <td>41</td>\n",
       "      <td>190178</td>\n",
       "      <td>10125</td>\n",
       "      <td>108.3</td>\n",
       "      <td>178.2</td>\n",
       "      <td>64.7</td>\n",
       "      <td>2773</td>\n",
       "      <td>2.2</td>\n",
       "      <td>118</td>\n",
       "      <td>23</td>\n",
       "      <td>28</td>\n",
       "    </tr>\n",
       "  </tbody>\n",
       "</table>\n",
       "</div>"
      ],
      "text/plain": [
       "   car  year  firm_id firm_name   division        model  segm1  Quantity  \\\n",
       "0    0  1996        3     HONDA      Acura          SLX     32      2565   \n",
       "1    0  1996       19        GM  Chevrolet        Astro     21    125962   \n",
       "2    0  1996       19        GM  Chevrolet       Blazer     32    246307   \n",
       "3    0  1996       19        GM  Chevrolet  Express/VAN     22     80203   \n",
       "4    0  1996       19        GM  Chevrolet          S10     41    190178   \n",
       "\n",
       "   Price  wheel_base  length  width  weight  disp   hp  mpg_city  mpg_highway  \n",
       "0  34320       108.7   178.9   72.4    4315   3.2  190        14           18  \n",
       "1  19152       110.0   189.8   77.5    3398   4.3  190        17           22  \n",
       "2  17406       107.0   176.8   65.4    3365   4.3  165        16           21  \n",
       "3  21987       135.0   218.7   79.2    4641   4.3  195        15           19  \n",
       "4  10125       108.3   178.2   64.7    2773   2.2  118        23           28  "
      ]
     },
     "execution_count": 8,
     "metadata": {},
     "output_type": "execute_result"
    }
   ],
   "source": [
    "cars.head()"
   ]
  },
  {
   "cell_type": "markdown",
   "id": "e84adcfb",
   "metadata": {},
   "source": [
    "**Note:** ```disp``` measures engine displacement and is expressed in liters.\n",
    "\n",
    ">Engine displacement is the measure of the cylinder volume swept by all of the pistons of a piston engine, excluding the combustion chambers."
   ]
  },
  {
   "cell_type": "code",
   "execution_count": 10,
   "id": "e9d049a4",
   "metadata": {},
   "outputs": [],
   "source": [
    "cars['category'] = cars['segm1'].map(lambda x: math.floor((x)/10))"
   ]
  },
  {
   "cell_type": "markdown",
   "id": "8158bb13",
   "metadata": {},
   "source": [
    "## Descriptive Statistics\n",
    "\n",
    "To expand our Python skills let's look at _lambda_ functions and demonstrate their use to create labels."
   ]
  },
  {
   "cell_type": "code",
   "execution_count": 12,
   "id": "35c68d46",
   "metadata": {},
   "outputs": [
    {
     "data": {
      "text/html": [
       "<div>\n",
       "<style scoped>\n",
       "    .dataframe tbody tr th:only-of-type {\n",
       "        vertical-align: middle;\n",
       "    }\n",
       "\n",
       "    .dataframe tbody tr th {\n",
       "        vertical-align: top;\n",
       "    }\n",
       "\n",
       "    .dataframe thead th {\n",
       "        text-align: right;\n",
       "    }\n",
       "</style>\n",
       "<table border=\"1\" class=\"dataframe\">\n",
       "  <thead>\n",
       "    <tr style=\"text-align: right;\">\n",
       "      <th>col_0</th>\n",
       "      <th>count</th>\n",
       "    </tr>\n",
       "    <tr>\n",
       "      <th>car_Cat</th>\n",
       "      <th></th>\n",
       "    </tr>\n",
       "  </thead>\n",
       "  <tbody>\n",
       "    <tr>\n",
       "      <th>Passenger Car</th>\n",
       "      <td>123</td>\n",
       "    </tr>\n",
       "    <tr>\n",
       "      <th>SUV/Truck/mini Van</th>\n",
       "      <td>62</td>\n",
       "    </tr>\n",
       "  </tbody>\n",
       "</table>\n",
       "</div>"
      ],
      "text/plain": [
       "col_0               count\n",
       "car_Cat                  \n",
       "Passenger Car         123\n",
       "SUV/Truck/mini Van     62"
      ]
     },
     "execution_count": 12,
     "metadata": {},
     "output_type": "execute_result"
    }
   ],
   "source": [
    "# using an explicit function \n",
    "\n",
    "def carLabel(x):\n",
    "    if x==1:\n",
    "        return 'Passenger Car'\n",
    "    else:\n",
    "        return 'SUV/Truck/mini Van'\n",
    "\n",
    "cars['car_Cat'] = cars['car'].map(lambda x: carLabel(x))\n",
    "\n",
    "carCat = pd.crosstab(index=cars['car_Cat'], columns='count')\n",
    "carCat\n"
   ]
  },
  {
   "cell_type": "code",
   "execution_count": 13,
   "id": "a53b79f7",
   "metadata": {},
   "outputs": [
    {
     "data": {
      "text/html": [
       "<div>\n",
       "<style scoped>\n",
       "    .dataframe tbody tr th:only-of-type {\n",
       "        vertical-align: middle;\n",
       "    }\n",
       "\n",
       "    .dataframe tbody tr th {\n",
       "        vertical-align: top;\n",
       "    }\n",
       "\n",
       "    .dataframe thead th {\n",
       "        text-align: right;\n",
       "    }\n",
       "</style>\n",
       "<table border=\"1\" class=\"dataframe\">\n",
       "  <thead>\n",
       "    <tr style=\"text-align: right;\">\n",
       "      <th>col_0</th>\n",
       "      <th>count</th>\n",
       "    </tr>\n",
       "    <tr>\n",
       "      <th>categoryName</th>\n",
       "      <th></th>\n",
       "    </tr>\n",
       "  </thead>\n",
       "  <tbody>\n",
       "    <tr>\n",
       "      <th>SUV</th>\n",
       "      <td>28</td>\n",
       "    </tr>\n",
       "    <tr>\n",
       "      <th>light trucks</th>\n",
       "      <td>13</td>\n",
       "    </tr>\n",
       "    <tr>\n",
       "      <th>minivans</th>\n",
       "      <td>21</td>\n",
       "    </tr>\n",
       "    <tr>\n",
       "      <th>passenger cars</th>\n",
       "      <td>123</td>\n",
       "    </tr>\n",
       "  </tbody>\n",
       "</table>\n",
       "</div>"
      ],
      "text/plain": [
       "col_0           count\n",
       "categoryName         \n",
       "SUV                28\n",
       "light trucks       13\n",
       "minivans           21\n",
       "passenger cars    123"
      ]
     },
     "execution_count": 13,
     "metadata": {},
     "output_type": "execute_result"
    }
   ],
   "source": [
    "# using a dictionary\n",
    "\n",
    "categoryDict = {\n",
    "    '0': 'passenger cars',\n",
    "    '2': 'minivans',\n",
    "    '3': 'SUV',\n",
    "    '4': 'light trucks'   \n",
    "}\n",
    "cars['categoryName'] = cars['category'].map(lambda x: categoryDict[str(x)])\n",
    "\n",
    "carCat = pd.crosstab(index=cars['categoryName'], columns='count')\n",
    "carCat"
   ]
  },
  {
   "cell_type": "code",
   "execution_count": 14,
   "id": "9b4efbcb",
   "metadata": {},
   "outputs": [
    {
     "data": {
      "text/html": [
       "<div>\n",
       "<style scoped>\n",
       "    .dataframe tbody tr th:only-of-type {\n",
       "        vertical-align: middle;\n",
       "    }\n",
       "\n",
       "    .dataframe tbody tr th {\n",
       "        vertical-align: top;\n",
       "    }\n",
       "\n",
       "    .dataframe thead th {\n",
       "        text-align: right;\n",
       "    }\n",
       "</style>\n",
       "<table border=\"1\" class=\"dataframe\">\n",
       "  <thead>\n",
       "    <tr style=\"text-align: right;\">\n",
       "      <th>col_0</th>\n",
       "      <th>count</th>\n",
       "    </tr>\n",
       "    <tr>\n",
       "      <th>category</th>\n",
       "      <th></th>\n",
       "    </tr>\n",
       "  </thead>\n",
       "  <tbody>\n",
       "    <tr>\n",
       "      <th>0</th>\n",
       "      <td>123</td>\n",
       "    </tr>\n",
       "    <tr>\n",
       "      <th>2</th>\n",
       "      <td>21</td>\n",
       "    </tr>\n",
       "    <tr>\n",
       "      <th>3</th>\n",
       "      <td>28</td>\n",
       "    </tr>\n",
       "    <tr>\n",
       "      <th>4</th>\n",
       "      <td>13</td>\n",
       "    </tr>\n",
       "  </tbody>\n",
       "</table>\n",
       "</div>"
      ],
      "text/plain": [
       "col_0     count\n",
       "category       \n",
       "0           123\n",
       "2            21\n",
       "3            28\n",
       "4            13"
      ]
     },
     "execution_count": 14,
     "metadata": {},
     "output_type": "execute_result"
    }
   ],
   "source": [
    "pd.crosstab(index=cars['category'], columns='count')"
   ]
  },
  {
   "cell_type": "markdown",
   "id": "3ea37a7e",
   "metadata": {},
   "source": [
    "## Product differentiation\n",
    "\n",
    "How differentiated are cars from each other?"
   ]
  },
  {
   "cell_type": "code",
   "execution_count": 16,
   "id": "cbcb13fd",
   "metadata": {},
   "outputs": [],
   "source": [
    "categoryColor = {\n",
    "    '0': 'green',\n",
    "    '2': 'blue',\n",
    "    '3': 'red',\n",
    "    '4': 'yellow'\n",
    "}\n",
    "cars['categoryColor'] = cars['category'].map(lambda x: categoryColor[str(x)])"
   ]
  },
  {
   "cell_type": "code",
   "execution_count": 17,
   "id": "30e00363",
   "metadata": {},
   "outputs": [],
   "source": [
    "# Text for box\n",
    "\n",
    "t = ' Green - Passenger Cars \\n Blue - Minivans \\n Red - SUVs \\n Yellow - Light Trucks'"
   ]
  },
  {
   "cell_type": "code",
   "execution_count": 18,
   "id": "945d5f1c",
   "metadata": {},
   "outputs": [
    {
     "data": {
      "image/png": "[encoded data removed]",
      "text/plain": [
       "<Figure size 1800x900 with 2 Axes>"
      ]
     },
     "metadata": {},
     "output_type": "display_data"
    }
   ],
   "source": [
    "fig, axs = plt.subplots(1, 2, squeeze=False, figsize=(18,9)) # ,                        subplot_kw = dict(polar = True))\n",
    "\n",
    "axs[0,0].scatter(cars['wheel_base'], cars['hp'], c=cars['categoryColor'])\n",
    "axs[0,0].set_title(\"Wheel Base vs. HP\", fontsize=18)\n",
    "axs[0,0].set_xlabel(\"Wheel base\", fontsize=14)\n",
    "axs[0,0].set_ylabel(\"HP\", fontsize=14)\n",
    "\n",
    "axs[0,1].scatter(cars['disp'], cars['mpg_city'], c=cars['categoryColor'])\n",
    "axs[0,1].set_title(\"Engine Displacement vs. City MPG\", fontsize=18)\n",
    "axs[0,1].set_xlabel(\"Engine Displacement\", fontsize=14)\n",
    "axs[0,1].set_ylabel(\"city MPG\", fontsize=14)\n",
    "axs[0,1].text(0, 1, t, ha='left', rotation=0, fontsize=18,wrap=True)\n",
    "\n",
    "\n",
    "fig.suptitle('Product differentiation - 1996', fontsize=24)\n",
    "plt.show()"
   ]
  },
  {
   "cell_type": "markdown",
   "id": "aba0f878",
   "metadata": {},
   "source": [
    "## Clustering\n",
    "\n",
    "Let's look more carefully at wheel_base versus HP using K-means clustering. We first bring the scaling functions from the previous project."
   ]
  },
  {
   "cell_type": "code",
   "execution_count": 20,
   "id": "5812f273-68e5-438b-a1a7-0c56bc54cd04",
   "metadata": {},
   "outputs": [],
   "source": [
    "def rescaleFeatures(df_in):\n",
    "    \"\"\"\n",
    "    Rescale all columns in the dataframe to the [0, 1] interval.\n",
    "    Returns the scaled dataframe, and Series of original column-wise min and max.\n",
    "    \"\"\"\n",
    "    df_out = df_in.copy().astype(float)  # Ensure float dtype to avoid dtype warnings\n",
    "    m = df_out.min()\n",
    "    M = df_out.max()\n",
    "    \n",
    "    for i in range(len(df_out.columns)):\n",
    "        df_out.iloc[:, i] = (df_out.iloc[:, i] - m.iloc[i]) / (M.iloc[i] - m.iloc[i])\n",
    "    \n",
    "    return df_out, m, M"
   ]
  },
  {
   "cell_type": "code",
   "execution_count": 21,
   "id": "b649574f-277f-4a96-9aa8-fc69874b4a6d",
   "metadata": {},
   "outputs": [],
   "source": [
    "def upscaleCentroids(centroids_in, m, M):\n",
    "    \"\"\"\n",
    "    Rescales KMeans centroids from [0,1] scaled space back to original feature space.\n",
    "    Assumes centroids_in is a list of lists or a 2D numpy array.\n",
    "    \"\"\"\n",
    "    import numpy as np\n",
    "    centroid_out = np.array(centroids_in, dtype=float)  # ensure float\n",
    "    \n",
    "    n_centroids = centroid_out.shape[0]\n",
    "    n_features = centroid_out.shape[1]\n",
    "    \n",
    "    for i in range(n_centroids):\n",
    "        for j in range(n_features):\n",
    "            centroid_out[i, j] = centroid_out[i, j] * (M.iloc[j] - m.iloc[j]) + m.iloc[j]\n",
    "    \n",
    "    return centroid_out"
   ]
  },
  {
   "cell_type": "code",
   "execution_count": 22,
   "id": "0c16ecc6",
   "metadata": {},
   "outputs": [],
   "source": [
    "features = ['wheel_base', 'hp']\n",
    "small_df = cars[features]\n",
    "\n",
    "df1,m,M = rescaleFeatures(small_df)\n",
    "\n",
    "inertia = []\n",
    "n_clusters = []\n",
    "for i in range(1,13):\n",
    "    kmeans = KMeans(n_clusters=i, init='k-means++', random_state=0).fit(df1)\n",
    "    inertia.append(kmeans.inertia_)\n",
    "    n_clusters.append(i)\n",
    "\n",
    "#small_df = cars[features]"
   ]
  },
  {
   "cell_type": "code",
   "execution_count": 23,
   "id": "652a8e67",
   "metadata": {},
   "outputs": [
    {
     "data": {
      "image/png": "[encoded data removed]",
      "text/plain": [
       "<Figure size 640x480 with 1 Axes>"
      ]
     },
     "metadata": {},
     "output_type": "display_data"
    }
   ],
   "source": [
    "plt.plot(n_clusters,inertia, marker='o')\n",
    "plt.xlabel('Number of clusters')\n",
    "plt.ylabel('Distortion')\n",
    "plt.title(\"Inertia of K-means clustering\")\n",
    "plt.show()"
   ]
  },
  {
   "cell_type": "markdown",
   "id": "51cd29eb",
   "metadata": {},
   "source": [
    "No clear \"elbow\". I am choosing ```k=5```."
   ]
  },
  {
   "cell_type": "code",
   "execution_count": 25,
   "id": "e93f298e",
   "metadata": {},
   "outputs": [],
   "source": [
    "k = 5\n",
    "kmeans = KMeans(n_clusters=k, init='k-means++', random_state=0).fit(df1)\n",
    "\n",
    "centroids1 = upscaleCentroids(kmeans.cluster_centers_,m,M)"
   ]
  },
  {
   "cell_type": "code",
   "execution_count": 26,
   "id": "7d9a17cb",
   "metadata": {},
   "outputs": [
    {
     "data": {
      "image/png": "[encoded data removed]",
      "text/plain": [
       "<Figure size 640x480 with 1 Axes>"
      ]
     },
     "metadata": {},
     "output_type": "display_data"
    }
   ],
   "source": [
    "#scatter plot for the dataset\n",
    "plt.scatter(data=small_df, x=features[0], y=features[1],c=kmeans.labels_)\n",
    "plt.scatter(kmeans.cluster_centers_[:,0], kmeans.cluster_centers_[:,1],marker=\"X\", c=\"r\", s=80, label=\"centroids\")\n",
    "plt.title(f\"Position of {n_cars} cars in {k} clusters\")\n",
    "plt.xlabel(features[0])\n",
    "plt.ylabel(features[1])\n",
    "plt.show()"
   ]
  },
  {
   "cell_type": "markdown",
   "id": "4ef39d36",
   "metadata": {},
   "source": [
    "## Linear Regression\n",
    "\n",
    "It's time to estimate some models that connext an outcome variables to some explanatory variables."
   ]
  },
  {
   "cell_type": "markdown",
   "id": "d2d24921",
   "metadata": {},
   "source": [
    "<p STYLE=\"text-align:center;color:red;font-size:24px;\"> Warning: The following regressions are <b>WRONG</b> from an economic point of view!!! </p>"
   ]
  },
  {
   "cell_type": "markdown",
   "id": "afda2ce6",
   "metadata": {},
   "source": [
    "Note: I will be ignoring the ```weight``` variable for not special reason (other than forgetting it)."
   ]
  },
  {
   "cell_type": "code",
   "execution_count": 30,
   "id": "ec08fe5d",
   "metadata": {},
   "outputs": [
    {
     "name": "stdout",
     "output_type": "stream",
     "text": [
      "                            OLS Regression Results                            \n",
      "==============================================================================\n",
      "Dep. Variable:                  Price   R-squared:                       0.666\n",
      "Model:                            OLS   Adj. R-squared:                  0.655\n",
      "Method:                 Least Squares   F-statistic:                     59.21\n",
      "Date:                Mon, 26 May 2025   Prob (F-statistic):           7.18e-40\n",
      "Time:                        00:18:43   Log-Likelihood:                -1902.9\n",
      "No. Observations:                 185   AIC:                             3820.\n",
      "Df Residuals:                     178   BIC:                             3842.\n",
      "Df Model:                           6                                         \n",
      "Covariance Type:            nonrobust                                         \n",
      "===============================================================================\n",
      "                  coef    std err          t      P>|t|      [0.025      0.975]\n",
      "-------------------------------------------------------------------------------\n",
      "Intercept    2.663e+04   1.68e+04      1.589      0.114   -6448.346    5.97e+04\n",
      "hp            268.9908     19.565     13.749      0.000     230.382     307.599\n",
      "disp        -5719.6326   1213.083     -4.715      0.000   -8113.507   -3325.759\n",
      "mpg_city      -72.9665    314.521     -0.232      0.817    -693.636     547.703\n",
      "mpg_highway  -488.3261    247.238     -1.975      0.050    -976.221      -0.432\n",
      "width        -175.3950    261.773     -0.670      0.504    -691.973     341.183\n",
      "length        -21.2149     66.017     -0.321      0.748    -151.491     109.061\n",
      "==============================================================================\n",
      "Omnibus:                       72.411   Durbin-Watson:                   1.492\n",
      "Prob(Omnibus):                  0.000   Jarque-Bera (JB):              280.353\n",
      "Skew:                           1.504   Prob(JB):                     1.32e-61\n",
      "Kurtosis:                       8.227   Cond. No.                     8.34e+03\n",
      "==============================================================================\n",
      "\n",
      "Notes:\n",
      "[1] Standard Errors assume that the covariance matrix of the errors is correctly specified.\n",
      "[2] The condition number is large, 8.34e+03. This might indicate that there are\n",
      "strong multicollinearity or other numerical problems.\n"
     ]
    }
   ],
   "source": [
    "model1 = smf.ols(formula='Price ~  hp + disp + mpg_city + mpg_highway + width + length',data=cars).fit()\n",
    "\n",
    "print(model1.summary())"
   ]
  },
  {
   "cell_type": "markdown",
   "id": "62181b6f",
   "metadata": {},
   "source": [
    "Let's look at the notes at the end. First, the covariance matrix. We advocate in _Econ 1150_ (or should advocate) the use of heteroscedastic robust standard errors. The following option put inside ```fit()``` will make sure that this is the case."
   ]
  },
  {
   "cell_type": "code",
   "execution_count": 32,
   "id": "6dc73124",
   "metadata": {},
   "outputs": [
    {
     "name": "stdout",
     "output_type": "stream",
     "text": [
      "                            OLS Regression Results                            \n",
      "==============================================================================\n",
      "Dep. Variable:                  Price   R-squared:                       0.666\n",
      "Model:                            OLS   Adj. R-squared:                  0.655\n",
      "Method:                 Least Squares   F-statistic:                     33.70\n",
      "Date:                Mon, 26 May 2025   Prob (F-statistic):           5.50e-27\n",
      "Time:                        00:18:44   Log-Likelihood:                -1902.9\n",
      "No. Observations:                 185   AIC:                             3820.\n",
      "Df Residuals:                     178   BIC:                             3842.\n",
      "Df Model:                           6                                         \n",
      "Covariance Type:                  HC1                                         \n",
      "===============================================================================\n",
      "                  coef    std err          z      P>|z|      [0.025      0.975]\n",
      "-------------------------------------------------------------------------------\n",
      "Intercept    2.663e+04   1.32e+04      2.017      0.044     756.712    5.25e+04\n",
      "hp            268.9908     26.178     10.275      0.000     217.683     320.299\n",
      "disp        -5719.6326   1421.222     -4.024      0.000   -8505.176   -2934.090\n",
      "mpg_city      -72.9665    257.786     -0.283      0.777    -578.217     432.284\n",
      "mpg_highway  -488.3261    203.991     -2.394      0.017    -888.142     -88.511\n",
      "width        -175.3950    250.930     -0.699      0.485    -667.209     316.419\n",
      "length        -21.2149     83.234     -0.255      0.799    -184.350     141.920\n",
      "==============================================================================\n",
      "Omnibus:                       72.411   Durbin-Watson:                   1.492\n",
      "Prob(Omnibus):                  0.000   Jarque-Bera (JB):              280.353\n",
      "Skew:                           1.504   Prob(JB):                     1.32e-61\n",
      "Kurtosis:                       8.227   Cond. No.                     8.34e+03\n",
      "==============================================================================\n",
      "\n",
      "Notes:\n",
      "[1] Standard Errors are heteroscedasticity robust (HC1)\n",
      "[2] The condition number is large, 8.34e+03. This might indicate that there are\n",
      "strong multicollinearity or other numerical problems.\n"
     ]
    }
   ],
   "source": [
    "model1 = smf.ols(formula='Price ~ hp + disp + mpg_city + mpg_highway + width + length',data=cars).fit(cov_type='HC1')\n",
    "\n",
    "print(model1.summary())"
   ]
  },
  {
   "cell_type": "markdown",
   "id": "1efd4b61",
   "metadata": {},
   "source": [
    "Much better!\n",
    "\n",
    "Using heteroscedastic robust does not change the estimators for the coefficients but it change their standard errors, t statas and CIs (to the correct ones).\n",
    "\n",
    "Next, let's look at the possibility of multi-colinearity:"
   ]
  },
  {
   "cell_type": "code",
   "execution_count": 35,
   "id": "62c92028",
   "metadata": {},
   "outputs": [
    {
     "data": {
      "text/html": [
       "<div>\n",
       "<style scoped>\n",
       "    .dataframe tbody tr th:only-of-type {\n",
       "        vertical-align: middle;\n",
       "    }\n",
       "\n",
       "    .dataframe tbody tr th {\n",
       "        vertical-align: top;\n",
       "    }\n",
       "\n",
       "    .dataframe thead th {\n",
       "        text-align: right;\n",
       "    }\n",
       "</style>\n",
       "<table border=\"1\" class=\"dataframe\">\n",
       "  <thead>\n",
       "    <tr style=\"text-align: right;\">\n",
       "      <th></th>\n",
       "      <th>hp</th>\n",
       "      <th>disp</th>\n",
       "      <th>mpg_city</th>\n",
       "      <th>mpg_highway</th>\n",
       "      <th>width</th>\n",
       "      <th>length</th>\n",
       "    </tr>\n",
       "  </thead>\n",
       "  <tbody>\n",
       "    <tr>\n",
       "      <th>hp</th>\n",
       "      <td>1.000000</td>\n",
       "      <td>0.818906</td>\n",
       "      <td>-0.695023</td>\n",
       "      <td>-0.533925</td>\n",
       "      <td>0.574293</td>\n",
       "      <td>0.584118</td>\n",
       "    </tr>\n",
       "    <tr>\n",
       "      <th>disp</th>\n",
       "      <td>0.818906</td>\n",
       "      <td>1.000000</td>\n",
       "      <td>-0.795537</td>\n",
       "      <td>-0.672615</td>\n",
       "      <td>0.770376</td>\n",
       "      <td>0.730169</td>\n",
       "    </tr>\n",
       "    <tr>\n",
       "      <th>mpg_city</th>\n",
       "      <td>-0.695023</td>\n",
       "      <td>-0.795537</td>\n",
       "      <td>1.000000</td>\n",
       "      <td>0.878361</td>\n",
       "      <td>-0.708727</td>\n",
       "      <td>-0.615715</td>\n",
       "    </tr>\n",
       "    <tr>\n",
       "      <th>mpg_highway</th>\n",
       "      <td>-0.533925</td>\n",
       "      <td>-0.672615</td>\n",
       "      <td>0.878361</td>\n",
       "      <td>1.000000</td>\n",
       "      <td>-0.557824</td>\n",
       "      <td>-0.410944</td>\n",
       "    </tr>\n",
       "    <tr>\n",
       "      <th>width</th>\n",
       "      <td>0.574293</td>\n",
       "      <td>0.770376</td>\n",
       "      <td>-0.708727</td>\n",
       "      <td>-0.557824</td>\n",
       "      <td>1.000000</td>\n",
       "      <td>0.803682</td>\n",
       "    </tr>\n",
       "    <tr>\n",
       "      <th>length</th>\n",
       "      <td>0.584118</td>\n",
       "      <td>0.730169</td>\n",
       "      <td>-0.615715</td>\n",
       "      <td>-0.410944</td>\n",
       "      <td>0.803682</td>\n",
       "      <td>1.000000</td>\n",
       "    </tr>\n",
       "  </tbody>\n",
       "</table>\n",
       "</div>"
      ],
      "text/plain": [
       "                   hp      disp  mpg_city  mpg_highway     width    length\n",
       "hp           1.000000  0.818906 -0.695023    -0.533925  0.574293  0.584118\n",
       "disp         0.818906  1.000000 -0.795537    -0.672615  0.770376  0.730169\n",
       "mpg_city    -0.695023 -0.795537  1.000000     0.878361 -0.708727 -0.615715\n",
       "mpg_highway -0.533925 -0.672615  0.878361     1.000000 -0.557824 -0.410944\n",
       "width        0.574293  0.770376 -0.708727    -0.557824  1.000000  0.803682\n",
       "length       0.584118  0.730169 -0.615715    -0.410944  0.803682  1.000000"
      ]
     },
     "execution_count": 35,
     "metadata": {},
     "output_type": "execute_result"
    }
   ],
   "source": [
    "characteristics =['hp', 'disp', 'mpg_city', 'mpg_highway', 'width', 'length']\n",
    "cars[characteristics].corr()"
   ]
  },
  {
   "cell_type": "markdown",
   "id": "36d85992",
   "metadata": {},
   "source": [
    "It looks like ```mpg_city``` and ```mpg_highway``` are highly correlated, ```width``` and ```legth``` as well as ```hp``` and ```disp```.\n",
    "\n",
    "To solve the first problem, we can use the _Combined MPG_ (EPA definition):\n",
    "\n",
    "<p STYLE=\"text-align:center;color:blue;font-size:18px;\">\n",
    "mpg_combined = 0.55*mpg_city +0.45*mpg_highway.\n",
    "    </p>"
   ]
  },
  {
   "cell_type": "code",
   "execution_count": 40,
   "id": "f6b23cb7",
   "metadata": {},
   "outputs": [],
   "source": [
    "cars['mpg_combined'] = cars['mpg_city']*0.55+cars['mpg_highway']*0.45"
   ]
  },
  {
   "cell_type": "code",
   "execution_count": 49,
   "id": "98856365",
   "metadata": {},
   "outputs": [
    {
     "name": "stdout",
     "output_type": "stream",
     "text": [
      "                            OLS Regression Results                            \n",
      "==============================================================================\n",
      "Dep. Variable:                  Price   R-squared:                       0.665\n",
      "Model:                            OLS   Adj. R-squared:                  0.655\n",
      "Method:                 Least Squares   F-statistic:                     39.60\n",
      "Date:                Mon, 26 May 2025   Prob (F-statistic):           2.81e-27\n",
      "Time:                        00:18:44   Log-Likelihood:                -1903.3\n",
      "No. Observations:                 185   AIC:                             3819.\n",
      "Df Residuals:                     179   BIC:                             3838.\n",
      "Df Model:                           5                                         \n",
      "Covariance Type:                  HC1                                         \n",
      "================================================================================\n",
      "                   coef    std err          z      P>|z|      [0.025      0.975]\n",
      "--------------------------------------------------------------------------------\n",
      "Intercept     3.178e+04   1.28e+04      2.486      0.013    6726.050    5.68e+04\n",
      "hp             263.9784     26.026     10.143      0.000     212.968     314.989\n",
      "disp         -5607.5140   1430.117     -3.921      0.000   -8410.492   -2804.536\n",
      "mpg_combined  -619.5318    213.309     -2.904      0.004   -1037.610    -201.453\n",
      "width         -200.9100    250.085     -0.803      0.422    -691.068     289.248\n",
      "length         -36.6327     80.558     -0.455      0.649    -194.523     121.258\n",
      "==============================================================================\n",
      "Omnibus:                       71.562   Durbin-Watson:                   1.473\n",
      "Prob(Omnibus):                  0.000   Jarque-Bera (JB):              266.311\n",
      "Skew:                           1.502   Prob(JB):                     1.48e-58\n",
      "Kurtosis:                       8.053   Cond. No.                     7.80e+03\n",
      "==============================================================================\n",
      "\n",
      "Notes:\n",
      "[1] Standard Errors are heteroscedasticity robust (HC1)\n",
      "[2] The condition number is large, 7.8e+03. This might indicate that there are\n",
      "strong multicollinearity or other numerical problems.\n"
     ]
    }
   ],
   "source": [
    "model1 = smf.ols(formula='Price ~ hp + disp + mpg_combined + width + length',data=cars).fit(cov_type='HC1')\n",
    "\n",
    "print(model1.summary())"
   ]
  },
  {
   "cell_type": "markdown",
   "id": "7f55b866",
   "metadata": {},
   "source": [
    "To take care of the ```width``` and ```length``` correlation we create the footprint of the car:\n",
    "\n",
    "<p STYLE=\"text-align:center;color:blue;font-size:18px;\">\n",
    "footprint = width * length.\n",
    "    </p>"
   ]
  },
  {
   "cell_type": "code",
   "execution_count": 51,
   "id": "ea0e0d74",
   "metadata": {},
   "outputs": [],
   "source": [
    "cars['footprint'] = cars['width'] * cars['length'] /1000  #rescaling"
   ]
  },
  {
   "cell_type": "code",
   "execution_count": 52,
   "id": "79df6198",
   "metadata": {},
   "outputs": [
    {
     "name": "stdout",
     "output_type": "stream",
     "text": [
      "                            OLS Regression Results                            \n",
      "==============================================================================\n",
      "Dep. Variable:                  Price   R-squared:                       0.665\n",
      "Model:                            OLS   Adj. R-squared:                  0.657\n",
      "Method:                 Least Squares   F-statistic:                     49.88\n",
      "Date:                Mon, 26 May 2025   Prob (F-statistic):           3.36e-28\n",
      "Time:                        00:18:44   Log-Likelihood:                -1903.4\n",
      "No. Observations:                 185   AIC:                             3817.\n",
      "Df Residuals:                     180   BIC:                             3833.\n",
      "Df Model:                           4                                         \n",
      "Covariance Type:                  HC1                                         \n",
      "================================================================================\n",
      "                   coef    std err          z      P>|z|      [0.025      0.975]\n",
      "--------------------------------------------------------------------------------\n",
      "Intercept     1.981e+04   8285.178      2.391      0.017    3571.946     3.6e+04\n",
      "hp             264.2562     25.687     10.287      0.000     213.910     314.602\n",
      "disp         -5593.3876   1461.286     -3.828      0.000   -8457.456   -2729.319\n",
      "mpg_combined  -602.2643    212.388     -2.836      0.005   -1018.538    -185.991\n",
      "footprint     -722.6058    524.796     -1.377      0.169   -1751.188     305.976\n",
      "==============================================================================\n",
      "Omnibus:                       70.243   Durbin-Watson:                   1.480\n",
      "Prob(Omnibus):                  0.000   Jarque-Bera (JB):              257.713\n",
      "Skew:                           1.476   Prob(JB):                     1.09e-56\n",
      "Kurtosis:                       7.972   Cond. No.                     2.60e+03\n",
      "==============================================================================\n",
      "\n",
      "Notes:\n",
      "[1] Standard Errors are heteroscedasticity robust (HC1)\n",
      "[2] The condition number is large, 2.6e+03. This might indicate that there are\n",
      "strong multicollinearity or other numerical problems.\n"
     ]
    }
   ],
   "source": [
    "model1 = smf.ols(formula='Price ~ hp + disp + mpg_combined + footprint',data=cars).fit(cov_type='HC1')\n",
    "\n",
    "print(model1.summary())"
   ]
  },
  {
   "cell_type": "markdown",
   "id": "94d512c7",
   "metadata": {},
   "source": [
    "We are making a lot of progress on the correlation but the correlation between ```hp``` and ```disp``` remains. The only thing that can be done here (unless you know more Physics/Engineering than I do) is to drop one of them.\n"
   ]
  },
  {
   "cell_type": "code",
   "execution_count": 59,
   "id": "f1d39aef",
   "metadata": {},
   "outputs": [
    {
     "name": "stdout",
     "output_type": "stream",
     "text": [
      "                            OLS Regression Results                            \n",
      "==============================================================================\n",
      "Dep. Variable:                  Price   R-squared:                       0.284\n",
      "Model:                            OLS   Adj. R-squared:                  0.273\n",
      "Method:                 Least Squares   F-statistic:                     24.63\n",
      "Date:                Mon, 26 May 2025   Prob (F-statistic):           2.07e-13\n",
      "Time:                        00:18:44   Log-Likelihood:                -1973.5\n",
      "No. Observations:                 185   AIC:                             3955.\n",
      "Df Residuals:                     181   BIC:                             3968.\n",
      "Df Model:                           3                                         \n",
      "Covariance Type:                  HC1                                         \n",
      "================================================================================\n",
      "                   coef    std err          z      P>|z|      [0.025      0.975]\n",
      "--------------------------------------------------------------------------------\n",
      "Intercept     4.512e+04   1.12e+04      4.022      0.000    2.31e+04    6.71e+04\n",
      "disp          4980.7487   1549.312      3.215      0.001    1944.152    8017.345\n",
      "mpg_combined  -720.7884    197.921     -3.642      0.000   -1108.707    -332.870\n",
      "footprint    -1541.0226    835.795     -1.844      0.065   -3179.151      97.106\n",
      "==============================================================================\n",
      "Omnibus:                       72.767   Durbin-Watson:                   0.875\n",
      "Prob(Omnibus):                  0.000   Jarque-Bera (JB):              228.779\n",
      "Skew:                           1.613   Prob(JB):                     2.10e-50\n",
      "Kurtosis:                       7.390   Cond. No.                         395.\n",
      "==============================================================================\n",
      "\n",
      "Notes:\n",
      "[1] Standard Errors are heteroscedasticity robust (HC1)\n"
     ]
    }
   ],
   "source": [
    "model1 = smf.ols(formula='Price ~ disp + mpg_combined + footprint',data=cars).fit(cov_type='HC1')\n",
    "\n",
    "print(model1.summary())"
   ]
  },
  {
   "cell_type": "markdown",
   "id": "2afd6d4c",
   "metadata": {},
   "source": [
    "Sucsess!"
   ]
  },
  {
   "cell_type": "markdown",
   "id": "4810a960",
   "metadata": {},
   "source": [
    "The next task is to transform the left-hand side variable."
   ]
  },
  {
   "cell_type": "code",
   "execution_count": 68,
   "id": "586ef1c3",
   "metadata": {},
   "outputs": [],
   "source": [
    "cars['logPrice'] = cars['Price'].map(lambda x: math.log(x))"
   ]
  },
  {
   "cell_type": "code",
   "execution_count": 69,
   "id": "26ef7848",
   "metadata": {},
   "outputs": [
    {
     "name": "stdout",
     "output_type": "stream",
     "text": [
      "                            OLS Regression Results                            \n",
      "==============================================================================\n",
      "Dep. Variable:               logPrice   R-squared:                       0.400\n",
      "Model:                            OLS   Adj. R-squared:                  0.390\n",
      "Method:                 Least Squares   F-statistic:                     43.54\n",
      "Date:                Mon, 26 May 2025   Prob (F-statistic):           3.13e-21\n",
      "Time:                        00:18:44   Log-Likelihood:                -72.675\n",
      "No. Observations:                 185   AIC:                             153.4\n",
      "Df Residuals:                     181   BIC:                             166.2\n",
      "Df Model:                           3                                         \n",
      "Covariance Type:                  HC1                                         \n",
      "================================================================================\n",
      "                   coef    std err          z      P>|z|      [0.025      0.975]\n",
      "--------------------------------------------------------------------------------\n",
      "Intercept       10.8139      0.363     29.820      0.000      10.103      11.525\n",
      "disp             0.1487      0.052      2.843      0.004       0.046       0.251\n",
      "mpg_combined    -0.0398      0.007     -5.943      0.000      -0.053      -0.027\n",
      "footprint       -0.0311      0.027     -1.146      0.252      -0.084       0.022\n",
      "==============================================================================\n",
      "Omnibus:                        9.205   Durbin-Watson:                   0.887\n",
      "Prob(Omnibus):                  0.010   Jarque-Bera (JB):                9.128\n",
      "Skew:                           0.515   Prob(JB):                       0.0104\n",
      "Kurtosis:                       3.349   Cond. No.                         395.\n",
      "==============================================================================\n",
      "\n",
      "Notes:\n",
      "[1] Standard Errors are heteroscedasticity robust (HC1)\n"
     ]
    }
   ],
   "source": [
    "model1 = smf.ols(formula='logPrice ~ disp + mpg_combined + footprint',data=cars).fit(cov_type='HC1')\n",
    "\n",
    "print(model1.summary())"
   ]
  },
  {
   "cell_type": "markdown",
   "id": "3edba60e",
   "metadata": {},
   "source": [
    "How do you interpret the coefficients of a log-linear model $log(Y)=\\beta_0+\\beta_1X+u$?\n",
    "\n",
    "If for $X$ the coefficient estimator is $\\hat{\\beta}_1$, then if we increas $X$ by one unit, $Y$ will change by a factor of $e^{\\hat{\\beta}_1}$. \n",
    "\n",
    "For example, $\\hat{\\beta}_{mpg_combined} = -0.0398$. Then if the MPG_combined goes up by one unit (e.g. one more mile per gallon), then the price (**not** the log-price) will change by a factor of $e^{-0.0398}=0.961$ or it will go down by about 4%. That doesn't make sense..."
   ]
  },
  {
   "cell_type": "markdown",
   "id": "c5900645",
   "metadata": {},
   "source": [
    "### Handling categorical variables\n",
    "\n",
    "Suppose we want to include a Dummy variable for each car category (passenger cars, SUV, minivans, tricks). We can do that using the ```C()``` function inside the model."
   ]
  },
  {
   "cell_type": "code",
   "execution_count": 76,
   "id": "8a60f4fe",
   "metadata": {
    "scrolled": true
   },
   "outputs": [
    {
     "name": "stdout",
     "output_type": "stream",
     "text": [
      "                            OLS Regression Results                            \n",
      "==============================================================================\n",
      "Dep. Variable:               logPrice   R-squared:                       0.613\n",
      "Model:                            OLS   Adj. R-squared:                  0.600\n",
      "Method:                 Least Squares   F-statistic:                     35.24\n",
      "Date:                Mon, 26 May 2025   Prob (F-statistic):           6.72e-28\n",
      "Time:                        00:18:45   Log-Likelihood:                -32.129\n",
      "No. Observations:                 185   AIC:                             78.26\n",
      "Df Residuals:                     178   BIC:                             100.8\n",
      "Df Model:                           6                                         \n",
      "Covariance Type:                  HC1                                         \n",
      "====================================================================================\n",
      "                       coef    std err          z      P>|z|      [0.025      0.975]\n",
      "------------------------------------------------------------------------------------\n",
      "Intercept           12.7121      0.534     23.807      0.000      11.666      13.759\n",
      "C(category)[T.2]    -0.3754      0.082     -4.577      0.000      -0.536      -0.215\n",
      "C(category)[T.3]    -0.5699      0.100     -5.719      0.000      -0.765      -0.375\n",
      "C(category)[T.4]    -0.7282      0.071    -10.310      0.000      -0.867      -0.590\n",
      "disp                 0.1203      0.050      2.402      0.016       0.022       0.218\n",
      "mpg_combined        -0.0837      0.014     -6.108      0.000      -0.111      -0.057\n",
      "footprint           -0.0773      0.025     -3.079      0.002      -0.126      -0.028\n",
      "==============================================================================\n",
      "Omnibus:                        2.080   Durbin-Watson:                   1.230\n",
      "Prob(Omnibus):                  0.353   Jarque-Bera (JB):                1.966\n",
      "Skew:                           0.252   Prob(JB):                        0.374\n",
      "Kurtosis:                       2.973   Cond. No.                         521.\n",
      "==============================================================================\n",
      "\n",
      "Notes:\n",
      "[1] Standard Errors are heteroscedasticity robust (HC1)\n"
     ]
    }
   ],
   "source": [
    "model1 = smf.ols(formula='logPrice ~ disp + mpg_combined + footprint +C(category)',data=cars).fit(cov_type='HC1')\n",
    "\n",
    "print(model1.summary())"
   ]
  },
  {
   "cell_type": "markdown",
   "id": "154c04ff",
   "metadata": {},
   "source": [
    "Note that the $R^2$ increased substantially. \n",
    "\n",
    "In the next notebook we will see how to further use the regression package to estimate the demand function that we want to analyze. The above examples were just excersizes."
   ]
  }
 ],
 "metadata": {
  "@webio": {
   "lastCommId": null,
   "lastKernelId": null
  },
  "kernelspec": {
   "display_name": "Python 3 (ipykernel)",
   "language": "python",
   "name": "python3"
  },
  "language_info": {
   "codemirror_mode": {
    "name": "ipython",
    "version": 3
   },
   "file_extension": ".py",
   "mimetype": "text/x-python",
   "name": "python",
   "nbconvert_exporter": "python",
   "pygments_lexer": "ipython3",
   "version": "3.12.7"
  }
 },
 "nbformat": 4,
 "nbformat_minor": 5
}
