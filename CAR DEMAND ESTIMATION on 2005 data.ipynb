{
 "cells": [
  {
   "cell_type": "markdown",
   "id": "367e7ba0-110f-4f43-bd8c-70c2221a5bb1",
   "metadata": {},
   "source": [
    "# Econ 1193 - Project 3: Demand Estimation \n",
    "\n",
    "Group Members: Behera Bishwa, Gurreonero Akaya, Seegars Chelsea"
   ]
  },
  {
   "cell_type": "markdown",
   "id": "9a4665a6-a450-413c-be40-0868f057c44e",
   "metadata": {},
   "source": [
    "### 1. Import Required Packages"
   ]
  },
  {
   "cell_type": "code",
   "execution_count": 307,
   "id": "86fd0b2e-1efd-4745-9ad8-47a68dd0f369",
   "metadata": {},
   "outputs": [],
   "source": [
    "import pandas as pd  # for reading data, manipulating DataFrames, and summarizing data\n",
    "import numpy as np   # for numerical operations\n",
    "import statsmodels.formula.api as smf  # for formula-style regression\n",
    "import math  # for category binning"
   ]
  },
  {
   "cell_type": "markdown",
   "id": "c5ba3096-be01-4368-a850-76492033048c",
   "metadata": {},
   "source": [
    "### 2. Load Data\n",
    "\n",
    "We load the 2005 car data from GitHub and report the shape of the dataset"
   ]
  },
  {
   "cell_type": "code",
   "execution_count": 310,
   "id": "25eec26d-30be-449b-a9bf-d7bc337991ca",
   "metadata": {},
   "outputs": [
    {
     "name": "stdout",
     "output_type": "stream",
     "text": [
      "Number of cars: 217\n",
      "Number of columns: 20\n"
     ]
    }
   ],
   "source": [
    "# Load car dataset\n",
    "car_url = \"https://raw.githubusercontent.com/ArieBeresteanu/Econ1193_Spring2025/main/data/cardata2005.json\"\n",
    "cars = pd.read_json(car_url)\n",
    "print(\"Number of cars:\", cars.shape[0])\n",
    "print(\"Number of columns:\", cars.shape[1])"
   ]
  },
  {
   "cell_type": "markdown",
   "id": "6b110f4c-61a0-4701-a01c-d9b70ec6083b",
   "metadata": {},
   "source": [
    "### 3. Add Car Category Names\n",
    "\n",
    "We assign each car to a broad category using the segmentation code provided (`segm1`). This makes downstream analysis more interpretable.\n"
   ]
  },
  {
   "cell_type": "code",
   "execution_count": 313,
   "id": "a461528b-fbb6-4a61-a3ba-6d16e693ecaa",
   "metadata": {},
   "outputs": [
    {
     "name": "stdout",
     "output_type": "stream",
     "text": [
      "col_0           count\n",
      "categoryName         \n",
      "SUV                71\n",
      "light trucks       14\n",
      "minivans           16\n",
      "passenger cars    116\n"
     ]
    }
   ],
   "source": [
    "# 3. Add Category Names\n",
    "\n",
    "# using a lambda function\n",
    "cars['category'] = cars['segm1'].map(lambda x: math.floor((x)/10))\n",
    "\n",
    "# using a dictionary\n",
    "categoryDict = {\n",
    "    '0': 'passenger cars',\n",
    "    '2': 'minivans',\n",
    "    '3': 'SUV',\n",
    "    '4': 'light trucks'   \n",
    "}\n",
    "cars['categoryName'] = cars['category'].map(lambda x: categoryDict[str(x)])\n",
    "\n",
    "carCat = pd.crosstab(index=cars['categoryName'], columns='count')\n",
    "print(carCat)"
   ]
  },
  {
   "cell_type": "markdown",
   "id": "c1c353b1-7066-4c0f-aa1e-3b46a2188c52",
   "metadata": {},
   "source": [
    "### 4. Descriptive Statistics\n",
    "\n",
    "We provide summary statistics for price, quantity, and other continuous features. These help us understand the distribution and central tendencies of the data.\n"
   ]
  },
  {
   "cell_type": "code",
   "execution_count": 316,
   "id": "bcee0312-6c11-46a5-9c8a-93dee4f89f73",
   "metadata": {},
   "outputs": [
    {
     "name": "stdout",
     "output_type": "stream",
     "text": [
      "              Price       Quantity          hp       weight    mpg_city  \\\n",
      "count    217.000000     217.000000  217.000000   217.000000  217.000000   \n",
      "mean   29069.668203   73848.774194  206.741935  3740.907834   20.101382   \n",
      "std    13868.289791  100945.647243   61.496821   857.815324    6.052154   \n",
      "min    10390.000000     666.000000   67.000000  1850.000000   12.000000   \n",
      "25%    19695.000000   18050.000000  160.000000  3174.000000   17.000000   \n",
      "50%    25040.000000   40357.000000  200.000000  3590.000000   19.000000   \n",
      "75%    35340.000000   99648.000000  255.000000  4239.000000   22.000000   \n",
      "max    90620.000000  901463.000000  400.000000  6680.000000   61.000000   \n",
      "\n",
      "       mpg_highway  \n",
      "count   217.000000  \n",
      "mean     26.023041  \n",
      "std       5.739275  \n",
      "min      14.000000  \n",
      "25%      23.000000  \n",
      "50%      26.000000  \n",
      "75%      29.000000  \n",
      "max      56.000000  \n"
     ]
    }
   ],
   "source": [
    "# 4. Descriptive Statistics\n",
    "# =====================\n",
    "\n",
    "# Basic stats for numeric columns\n",
    "desc = cars[['Price', 'Quantity', 'hp', 'weight', 'mpg_city', 'mpg_highway']].describe()\n",
    "print(desc)\n",
    "\n",
    "# Comment: Prices and quantities show wide variation. Weight and horsepower vary greatly across vehicle types,\n",
    "# which reflects market heterogeneity. Highway MPG tends to be higher than city MPG, as expected.\n"
   ]
  },
  {
   "cell_type": "markdown",
   "id": "179684bf-1806-4c1b-aa66-839a47a49fbb",
   "metadata": {},
   "source": [
    "### Commentary on Descriptive Statistics\n",
    "\n",
    "The descriptive statistics reveal clear variation across car features. SUVs and sports cars generally have higher horsepower and price levels, while compact and midsize cars tend to be more fuel-efficient. The variation in city and highway MPG reflects differences in vehicle design and target market. These patterns help us understand consumer segmentation and pricing strategies. \n",
    "\n",
    "- Prices range from about $ 10,000 to $ 90,000, reflecting a broad spectrum from economy cars to luxury models.\n",
    "- Quanitiies sold vary drastically, with some models selling over 900,000 units while others sold fewer than 1,000 — highlighting sharp differences in market success.\n",
    "- Horsepower (hp) spans from 67 to 400, suggesting the presence of both compact and high-performance vehicles.\n",
    "- Weight is similarly diverse, indicating different segments such as sedans, SUVs, and trucks.\n",
    "- Fuel efficiency shows a clear distinction between city and highway driving, with highway MPG (mean ~26) being predictably higher than city MPG (mean ~20).\n",
    "  \n",
    "These variations support the idea of a heterogeneous car market in 2005 — essential for the validity of a differentiated product demand model.\n"
   ]
  },
  {
   "cell_type": "markdown",
   "id": "f229d30f-d544-4887-a743-30c89a9adced",
   "metadata": {},
   "source": [
    "### 5. Hybrid Cars in Dataset\n",
    "\n",
    "We identify hybrid vehicles and examine their distribution across segments. This informs us about technological differentiation in 2005.\n"
   ]
  },
  {
   "cell_type": "code",
   "execution_count": 320,
   "id": "955df22c-c53b-4276-a361-30f17601b92f",
   "metadata": {},
   "outputs": [
    {
     "name": "stdout",
     "output_type": "stream",
     "text": [
      "Number of hybrid cars: 4\n",
      "           model    categoryName\n",
      "1  accord hybrid  passenger cars\n",
      "2   civic hybrid  passenger cars\n",
      "3        insight  passenger cars\n",
      "4          prius  passenger cars\n"
     ]
    }
   ],
   "source": [
    "assert 'hybrid' in cars.columns, \"Column 'hybrid' not found!\"\n",
    "cars['hybrid'] = cars['hybrid'].fillna(0).astype(int)\n",
    "hybrids = cars[cars['hybrid'] == 1]\n",
    "print(\"Number of hybrid cars:\", len(hybrids))\n",
    "hybrid_display = hybrids[['model', 'categoryName']].reset_index(drop=True)\n",
    "hybrid_display.index += 1\n",
    "print(hybrid_display)\n"
   ]
  },
  {
   "cell_type": "markdown",
   "id": "e2ad05d1-3903-4e65-97fd-5b18ea142633",
   "metadata": {},
   "source": [
    "### Findings:\n",
    "\n",
    "There are only 4 hybrid models in the dataset: Accord Hybrid, Civic Hybrid, Insight, and Prius. All of them fall into the \"passenger cars\" category. This highlights that in 2005, hybrid technology was limited to sedans and compact cars, likely due to:\n",
    "- Lower production costs and battery requirements.\n",
    "- Market targeting of environmentally-conscious urban commuters.\n",
    "- Limited adoption and availability of hybrid technology in heavier vehicle classes like SUVs or trucks.\n",
    "\n",
    "These cars are spread across different categories, suggesting that hybrid technology was being introduced in a variety of market segments. Their relatively low numbers align with the limited infrastructure and consumer awareness of hybrid technology during that period. This lack of diversity in hybrid offerings reflects an early stage in hybrid adoption — an important consideration for demand estimation later in the project. \n"
   ]
  },
  {
   "cell_type": "markdown",
   "id": "ef990f53-4f81-452b-a256-436f7541f807",
   "metadata": {},
   "source": [
    "### 6. Top and Bottom Selling Cars\n",
    "\n",
    "We examine the best and worst selling models. This reveals market concentration and model popularity.\n"
   ]
  },
  {
   "cell_type": "code",
   "execution_count": 324,
   "id": "bb9ce2c4-a16b-4efd-b4dd-b25da076daf6",
   "metadata": {},
   "outputs": [
    {
     "name": "stdout",
     "output_type": "stream",
     "text": [
      "Top 3 Selling Models in 2005:\n",
      "            model  Quantity\n",
      "1       F series    901463\n",
      "2  Silverado C/K    705980\n",
      "3          camry    431703\n",
      "\n",
      "Bottom 3 Selling Models in 2005:\n",
      "      model  Quantity\n",
      "1  insight       666\n",
      "2  q45 m45      1129\n",
      "3  G class      1334\n"
     ]
    }
   ],
   "source": [
    "# =====================\n",
    "# 6. Top/Bottom Selling Cars\n",
    "# =====================\n",
    "\n",
    "# Sort and reset index with clean numbering\n",
    "top3 = cars.sort_values(by='Quantity', ascending=False)[['model', 'Quantity']].head(3).reset_index(drop=True)\n",
    "bottom3 = cars.sort_values(by='Quantity', ascending=True)[['model', 'Quantity']].head(3).reset_index(drop=True)\n",
    "\n",
    "# Start index from 1 for display\n",
    "top3.index += 1\n",
    "bottom3.index += 1\n",
    "\n",
    "print(\"Top 3 Selling Models in 2005:\\n\", top3)\n",
    "print(\"\\nBottom 3 Selling Models in 2005:\\n\", bottom3)"
   ]
  },
  {
   "cell_type": "markdown",
   "id": "635dd6f6-30ca-48c3-9199-a3a11f58334b",
   "metadata": {},
   "source": [
    "The top-selling models are generally lower-priced, practical vehicles, indicating strong consumer demand for affordability and reliability. In contrast, the bottom sellers are often luxury or niche vehicles, which may have limited appeal due to higher prices or specialized features. This pattern suggests price sensitivity among a large share of U.S. car buyers in 2005."
   ]
  },
  {
   "cell_type": "markdown",
   "id": "18c0ab16-1548-4b5a-b06a-ae4487544370",
   "metadata": {},
   "source": [
    "### 7. Number of Households in 2005\n",
    "\n",
    "We use census data to define market size, which will be used to construct demand quantities.\n"
   ]
  },
  {
   "cell_type": "code",
   "execution_count": 327,
   "id": "1697107c-3ff8-4bd5-8d30-ea109b6dfbc8",
   "metadata": {},
   "outputs": [],
   "source": [
    "households_2005 = 113343000"
   ]
  },
  {
   "cell_type": "markdown",
   "id": "4271d034-b9c9-4a84-8165-1ca1bcd6c9c1",
   "metadata": {},
   "source": [
    "### 8. Define variables \n",
    "like footprint and combined miles per gallon (and any\n",
    "other variables that you might need)."
   ]
  },
  {
   "cell_type": "code",
   "execution_count": 330,
   "id": "2a026ad7-6a39-4a61-948d-cb5a7f85a423",
   "metadata": {},
   "outputs": [],
   "source": [
    "cars[\"footprint\"] = cars[\"length\"] * cars[\"width\"]\n",
    "cars[\"mpg_combined\"] = 1 / ((0.55 / cars[\"mpg_city\"]) + (0.45 / cars[\"mpg_highway\"]))\n",
    "cars[\"segm1\"] = cars[\"segm1\"].astype(\"category\")"
   ]
  },
  {
   "cell_type": "markdown",
   "id": "dfc895d8-23bc-45b2-9887-0893c619557f",
   "metadata": {},
   "source": [
    "The combined MPG calculation uses a harmonic mean weighted by 55% city and 45% highway driving, which aligns with EPA methodology. This measure provides a more accurate representation of real-world fuel economy. Additionally, the footprint variable captures vehicle size and is often used in policy analysis, as it correlates with emissions and efficiency regulations."
   ]
  },
  {
   "cell_type": "markdown",
   "id": "16aa30aa-ac79-4976-902d-86882ef993a4",
   "metadata": {},
   "source": [
    "## 2) First Stage Regression\n",
    "\n",
    "### 1. Generate Instrumental Variables\n",
    "\n",
    "We compute \"distance\" instruments using differences between each product’s features and those of competitors. These are intended to explain price variation unrelated to demand.\n"
   ]
  },
  {
   "cell_type": "code",
   "execution_count": 333,
   "id": "9006da12-6107-4d89-a808-5afece0ecc38",
   "metadata": {},
   "outputs": [],
   "source": [
    "# Function to generate distance-based IVs (hp, weight not in second stage)\n",
    "def dist2CatV2(vars, df, cat='segm1'):\n",
    "    n = df.shape[0]\n",
    "    for var in vars:\n",
    "        global_mean = df[var].mean()\n",
    "        group_means = df.groupby(cat, observed=True)[var].mean()\n",
    "        group_counts = df[cat].value_counts()\n",
    "        df[f\"{var}Dist2\"] = df[cat].map(lambda x: \n",
    "            (global_mean * n - group_means.loc[x] * group_counts[x]) / (n - group_counts[x])\n",
    "        )\n",
    "\n",
    "# Generate IVs\n",
    "dist2CatV2(['hp', 'weight'], cars)\n",
    "\n"
   ]
  },
  {
   "cell_type": "markdown",
   "id": "269f9d17-6ede-4e5d-9487-7e8e5c4bcfe3",
   "metadata": {},
   "source": [
    "The instruments are constructed by measuring the distance between each car's features (e.g., MPG, horsepower, footprint) and the average of competing models. This approach ensures variation in the instruments that is exogenous to individual pricing decisions, satisfying relevance and exclusion criteria for valid instruments."
   ]
  },
  {
   "cell_type": "markdown",
   "id": "36ec17c1-198b-4dab-b86d-685cf22a29b7",
   "metadata": {},
   "source": [
    "### 2. Run First Stage Regression\n",
    "\n",
    "We regress price on instruments to obtain predicted prices. These predicted values are used in the second stage.\n"
   ]
  },
  {
   "cell_type": "code",
   "execution_count": 336,
   "id": "5030c46f-1e87-4704-aefe-50b5db61ca77",
   "metadata": {},
   "outputs": [
    {
     "name": "stdout",
     "output_type": "stream",
     "text": [
      "First Stage R²: 0.5972\n",
      "                            OLS Regression Results                            \n",
      "==============================================================================\n",
      "Dep. Variable:                  Price   R-squared:                       0.597\n",
      "Model:                            OLS   Adj. R-squared:                  0.582\n",
      "Method:                 Least Squares   F-statistic:                     38.55\n",
      "Date:                Thu, 24 Apr 2025   Prob (F-statistic):           3.66e-37\n",
      "Time:                        22:51:09   Log-Likelihood:                -2278.4\n",
      "No. Observations:                 217   AIC:                             4575.\n",
      "Df Residuals:                     208   BIC:                             4605.\n",
      "Df Model:                           8                                         \n",
      "Covariance Type:            nonrobust                                         \n",
      "=====================================================================================================\n",
      "                                        coef    std err          t      P>|t|      [0.025      0.975]\n",
      "-----------------------------------------------------------------------------------------------------\n",
      "Intercept                          5.426e+05   7.08e+04      7.668      0.000    4.03e+05    6.82e+05\n",
      "C(categoryName)[T.light trucks]   -8263.2065   2738.881     -3.017      0.003   -1.37e+04   -2863.681\n",
      "C(categoryName)[T.minivans]       -4834.3622   2623.659     -1.843      0.067      -1e+04     338.011\n",
      "C(categoryName)[T.passenger cars]  1.266e+04   1767.562      7.161      0.000    9172.031    1.61e+04\n",
      "mpg_combined                       -270.8470    258.955     -1.046      0.297    -781.360     239.666\n",
      "disp                               7135.4492   1109.113      6.433      0.000    4948.906    9321.993\n",
      "footprint                            -2.2686      0.631     -3.598      0.000      -3.512      -1.026\n",
      "hybrid                             1.562e+04   6801.442      2.297      0.023    2215.886     2.9e+04\n",
      "iv_combination                     -254.7280     35.557     -7.164      0.000    -324.825    -184.631\n",
      "==============================================================================\n",
      "Omnibus:                       53.953   Durbin-Watson:                   1.160\n",
      "Prob(Omnibus):                  0.000   Jarque-Bera (JB):              124.474\n",
      "Skew:                           1.139   Prob(JB):                     9.35e-28\n",
      "Kurtosis:                       5.929   Cond. No.                     1.63e+06\n",
      "==============================================================================\n",
      "\n",
      "Notes:\n",
      "[1] Standard Errors assume that the covariance matrix of the errors is correctly specified.\n",
      "[2] The condition number is large, 1.63e+06. This might indicate that there are\n",
      "strong multicollinearity or other numerical problems.\n"
     ]
    }
   ],
   "source": [
    "# FIRST STAGE REGRESSION\n",
    "#1. Generate Instrumental Variables (IVs)\n",
    "cars['hpDist2'] = pd.to_numeric(cars['hpDist2'], errors='coerce')\n",
    "cars['weightDist2'] = pd.to_numeric(cars['weightDist2'], errors='coerce')\n",
    "\n",
    "cars['iv_combination'] = (cars['hpDist2'] + cars['weightDist2']) / 2\n",
    "# 2. Estimate First Stage and Save Predicted Values\n",
    "formula_stage1 = 'Price ~ mpg_combined + disp + footprint + hybrid + iv_combination + C(categoryName)'\n",
    "\n",
    "#You estimate the regression:\n",
    "first_stage_model = smf.ols(formula=formula_stage1, data=cars).fit()\n",
    "# You use smf.ols(...).fit() and store the predicted values as:\n",
    "cars[\"Price_hat\"] = first_stage_model.fittedvalues\n",
    "\n",
    "print(\"First Stage R²:\", round(first_stage_model.rsquared, 4))\n",
    "print(first_stage_model.summary())"
   ]
  },
  {
   "cell_type": "markdown",
   "id": "2a039eb9-aa6b-4ec8-9076-fcf6c2be3f77",
   "metadata": {},
   "source": [
    "The first-stage regression estimates the relationship between the instruments and car price. The fitted values from this model serve as our predicted price, isolating the exogenous variation in price due to observed car characteristics."
   ]
  },
  {
   "cell_type": "markdown",
   "id": "834b58e9-4bb7-4ba5-8428-5827eb56994a",
   "metadata": {},
   "source": [
    "### 3) R² and Relevance of IVs\n",
    "First Stage R²: 0.5972\n",
    "The iv_combination variable has a very significant t-statistic (-7.164, p < 0.001). This shows strong relevance in explaining price.\n",
    "\n",
    "The R² value of approximately 0.60 suggests that the instruments explain a substantial portion of the variation in car prices. While not extremely high, this level of explanatory power indicates that the chosen instruments are relevant and capture systematic pricing variation across models.\n"
   ]
  },
  {
   "cell_type": "markdown",
   "id": "aa04553e-b514-43fa-85a0-b5e3358632e8",
   "metadata": {},
   "source": [
    "## Second Stage Regression\n",
    "\n",
    "### 1. Correlation Matrix\n",
    "\n",
    "We examine correlations among regressors to check for multicollinearity.\n"
   ]
  },
  {
   "cell_type": "code",
   "execution_count": 340,
   "id": "3c3d0da5-8bf7-403e-9f0f-6f5e8bb79025",
   "metadata": {},
   "outputs": [
    {
     "name": "stdout",
     "output_type": "stream",
     "text": [
      "Correlation Matrix of Second Stage Regressors:\n",
      "               mpg_combined      disp  footprint    hybrid\n",
      "mpg_combined      1.000000 -0.737231  -0.630701  0.603421\n",
      "disp             -0.737231  1.000000   0.780299 -0.193571\n",
      "footprint        -0.630701  0.780299   1.000000 -0.149357\n",
      "hybrid            0.603421 -0.193571  -0.149357  1.000000\n"
     ]
    }
   ],
   "source": [
    "# 1. Correlation Matrix\n",
    "cols_corr = [\"mpg_combined\", \"disp\", \"footprint\", \"hybrid\"]\n",
    "\n",
    "corr_matrix = cars[cols_corr].corr()\n",
    "print(\"Correlation Matrix of Second Stage Regressors:\\n\", corr_matrix)\n",
    "\n",
    "# Flag strong correlations > 0.8\n",
    "for i in range(len(cols_corr)):\n",
    "    for j in range(i+1, len(cols_corr)):\n",
    "        corr_val = corr_matrix.iloc[i, j]\n",
    "        if abs(corr_val) > 0.8:\n",
    "            print(f\"Warning: High correlation between {cols_corr[i]} and {cols_corr[j]}: {round(corr_val, 2)}\")\n",
    "cars[\"categoryName\"] = cars[\"categoryName\"].astype(\"category\")\n",
    "keep_cols = [\"Quantity\", \"Price_hat\", \"mpg_combined\", \"disp\", \"footprint\", \"hybrid\", \"categoryName\"]"
   ]
  },
  {
   "cell_type": "markdown",
   "id": "74cc15d1-6725-4ae2-8622-b6615165858a",
   "metadata": {},
   "source": [
    "* The results show a strong positive correlation of 0.7803 between disp (engine displacement) and footprint (a measure of vehicle size). Although this value does not exceed the conventional threshold of 0.8, it is very close and warrants caution. These two features capture similar aspects of vehicle scale—larger vehicles tend to have both greater engine displacement and a larger physical footprint—which may explain their tight correlation. Such overlap could lead to multicollinearity, inflating standard errors and obscuring the independent contribution of each variable.\n",
    "* We also observe notable negative correlations between mpg_combined (fuel efficiency) and both disp (−0.7372) and footprint (−0.6307), which align with economic expectations. Vehicles with larger engines and bodies are generally less fuel-efficient, and these relationships help confirm the internal consistency of the dataset. Meanwhile, the hybrid indicator variable is positively correlated with mpg_combined (0.6034), reflecting the higher fuel efficiency typically found in hybrid vehicles. Its correlations with other regressors remain low, indicating that it is unlikely to be a source of multicollinearity.\n",
    "* The correlation matrix shows that most features have moderate or low correlation. However, we observe some correlation between horsepower and footprint, which may reflect the tendency of larger cars to have more powerful engines. There are no extreme values above 0.8, so multicollinearity is unlikely to significantly bias the second-stage estimates."
   ]
  },
  {
   "cell_type": "markdown",
   "id": "d09d6e7d-2169-4703-8b5c-7213bfc90948",
   "metadata": {},
   "source": [
    "### 2. Run Second Stage Regression\n",
    "\n",
    "We estimate log market share as a function of predicted price and product features. Dummy variables for hybrid cars and segments are included.\n"
   ]
  },
  {
   "cell_type": "code",
   "execution_count": 344,
   "id": "84c4eb84-def6-402c-b19b-807730044b13",
   "metadata": {},
   "outputs": [
    {
     "name": "stdout",
     "output_type": "stream",
     "text": [
      "                                 OLS Regression Results                                 \n",
      "========================================================================================\n",
      "Dep. Variable:     np.log(Quantity / 113343000)   R-squared:                       0.198\n",
      "Model:                                      OLS   Adj. R-squared:                  0.167\n",
      "Method:                           Least Squares   F-statistic:                     6.170\n",
      "Date:                          Thu, 24 Apr 2025   Prob (F-statistic):           3.81e-07\n",
      "Time:                                  22:51:12   Log-Likelihood:                -331.84\n",
      "No. Observations:                           217   AIC:                             681.7\n",
      "Df Residuals:                               208   BIC:                             712.1\n",
      "Df Model:                                     8                                         \n",
      "Covariance Type:                            HC3                                         \n",
      "=====================================================================================================\n",
      "                                        coef    std err          z      P>|z|      [0.025      0.975]\n",
      "-----------------------------------------------------------------------------------------------------\n",
      "Intercept                           -11.9649      2.257     -5.300      0.000     -16.389      -7.540\n",
      "C(categoryName)[T.light trucks]       0.0720      0.454      0.159      0.874      -0.818       0.963\n",
      "C(categoryName)[T.minivans]          -0.7132      0.339     -2.103      0.035      -1.378      -0.048\n",
      "C(categoryName)[T.passenger cars]    -0.1408      0.301     -0.467      0.640      -0.732       0.450\n",
      "Price_hat                         -4.994e-05   1.92e-05     -2.606      0.009   -8.75e-05   -1.24e-05\n",
      "mpg_combined                          0.0681      0.062      1.093      0.275      -0.054       0.190\n",
      "disp                                  0.2370      0.213      1.111      0.266      -0.181       0.655\n",
      "footprint                             0.0002   8.88e-05      2.699      0.007    6.56e-05       0.000\n",
      "hybrid                               -2.3038      1.729     -1.333      0.183      -5.692       1.084\n",
      "==============================================================================\n",
      "Omnibus:                       12.308   Durbin-Watson:                   1.785\n",
      "Prob(Omnibus):                  0.002   Jarque-Bera (JB):               12.791\n",
      "Skew:                          -0.579   Prob(JB):                      0.00167\n",
      "Kurtosis:                       3.272   Cond. No.                     7.34e+05\n",
      "==============================================================================\n",
      "\n",
      "Notes:\n",
      "[1] Standard Errors are heteroscedasticity robust (HC3)\n",
      "[2] The condition number is large, 7.34e+05. This might indicate that there are\n",
      "strong multicollinearity or other numerical problems.\n"
     ]
    }
   ],
   "source": [
    "formula_stage2 = f'np.log(Quantity / {households_2005}) ~ Price_hat + mpg_combined + disp + footprint + hybrid + C(categoryName)'\n",
    "second_stage_model = smf.ols(formula=formula_stage2, data=cars_clean).fit(cov_type=\"HC3\")\n",
    "print(second_stage_model.summary())"
   ]
  },
  {
   "cell_type": "markdown",
   "id": "8780fd93-383f-49f6-b791-acab4ce33e57",
   "metadata": {},
   "source": [
    "The second-stage regression estimates the effect of car features on quantity sold, using the predicted price from the first stage as an instrument. We include segment and hybrid dummies to control for fixed effects across market categories."
   ]
  },
  {
   "cell_type": "markdown",
   "id": "4fb63754-c36f-44d3-8d1d-b719b5f8c9c4",
   "metadata": {},
   "source": [
    "### 3) Analyzing our results"
   ]
  },
  {
   "cell_type": "markdown",
   "id": "e3aa23bf-d6bd-473e-b992-0c9353769364",
   "metadata": {},
   "source": [
    "We estimated a log-linear demand model, where the dependent variable is the natural log of market share (log(Quantity / households_2005)), and independent variables include predicted price (Price_hat), product features (mpg_combined, disp, footprint, hybrid), and categorical dummies for vehicle segments.\n",
    "\n",
    "The model has:\n",
    "\n",
    "R² = 0.198, which is modest but reasonable for market share regressions.\n",
    "\n",
    "Robust standard errors (HC3), accounting for heteroscedasticity.\n",
    "\n",
    "A large condition number (7.34e+05), again flagging potential multicollinearity."
   ]
  },
  {
   "cell_type": "markdown",
   "id": "2bef65d6-d018-407d-ac06-e14ee723c42b",
   "metadata": {},
   "source": [
    "Coefficient: −4.99e−05,\n",
    "\n",
    "p-value: 0.009 (statistically significant)"
   ]
  },
  {
   "cell_type": "markdown",
   "id": "116b3da5-f8f8-4663-9bd3-b0e5c68414a3",
   "metadata": {},
   "source": [
    "In the second-stage regression, the dependent variable is the natural log of market share—defined as the ratio of quantity sold to total households—modeled as a function of predicted price and various product features. The model includes dummy variables for vehicle segment categories and controls for hybrid status. The R-squared value is 0.198, indicating that the model explains about 19.8% of the variation in market share across products. Although modest, this level of fit is common in market-level demand models. Robust standard errors were used to account for potential heteroscedasticity, and the large condition number (7.34e+05) suggests that multicollinearity may still be an issue and should be further examined.\n",
    "\n",
    "The coefficient on predicted price (Price_hat) is negative and statistically significant at the 1% level, confirming that higher prices are associated with lower market shares, consistent with economic theory. Specifically, the coefficient of approximately −5e−05 indicates that a unit increase in price leads to a small but significant decrease in log market share, holding other factors constant. This finding validates the use of instrumental variables in the first stage and confirms the relevance of price in consumer demand decisions.\n",
    "\n",
    "Among product features, vehicle size (measured by footprint) is the only statistically significant predictor at the 1% level. Its positive coefficient suggests that consumers exhibit a preference for larger vehicles, possibly due to perceived benefits like comfort or safety. Other features such as fuel efficiency (mpg_combined) and engine displacement (disp) show expected directional effects—higher fuel efficiency and larger engines are associated with higher demand—but neither is statistically significant. This may be due to overlapping information across variables or limited variation after controlling for price and category."
   ]
  },
  {
   "cell_type": "markdown",
   "id": "bf502940-40d0-460b-87ed-21b985f3bb23",
   "metadata": {},
   "source": [
    "Product Features\n",
    "mpg_combined (Fuel Efficiency)\n",
    "\n",
    "Coefficient: 0.0681, not statistically significant (p = 0.275)\n",
    "\n",
    "Interpretation: Higher fuel efficiency slightly increases demand, but the effect is not significant in this sample.\n",
    "\n",
    "disp (Engine Displacement)\n",
    "\n",
    "Coefficient: 0.2370, not significant (p = 0.266)\n",
    "\n",
    "Interpretation: Suggests a weak preference for higher displacement vehicles, possibly due to perceived power, but again, the effect is not significant.\n",
    "\n",
    "footprint (Vehicle Size)\n",
    "\n",
    "Coefficient: 0.0002, significant (p = 0.007)\n",
    "\n",
    "Interpretation: Consumers prefer larger vehicles—this is significant and economically meaningful in markets where vehicle size connotes comfort or status.\n",
    "\n",
    "hybrid\n",
    "\n",
    "Coefficient: −2.3038, not significant (p = 0.183)\n",
    "\n",
    "Interpretation: Although the coefficient is negative, it’s not statistically significant, suggesting no clear preference or penalty for hybrid status, after controlling for other features.\n",
    "\n",
    "The coefficient on predicted price is negative and statistically significant, indicating that as the price of a car increases, the quantity sold decreases, consistent with the law of demand. The hybrid dummy has a positive coefficient, suggesting hybrid models may have higher demand, potentially due to fuel efficiency or environmental appeal. Segment dummies allow us to isolate demand differences across market categories, where coefficients reflect relative popularity, controlling for price and features. Coefficients on MPG and footprint provide insight into consumer preferences regarding fuel economy and car size."
   ]
  },
  {
   "cell_type": "markdown",
   "id": "37abd42c-5ce2-42c2-902c-7d2af7b36052",
   "metadata": {},
   "source": [
    "Overall, the results support core economic intuitions—price negatively affects demand, vehicle size matters to consumers, and some vehicle types face steeper demand curves."
   ]
  },
  {
   "cell_type": "markdown",
   "id": "8953136d-c95b-4586-8473-370353ad65fc",
   "metadata": {},
   "source": []
  }
 ],
 "metadata": {
  "kernelspec": {
   "display_name": "Python 3 (ipykernel)",
   "language": "python",
   "name": "python3"
  },
  "language_info": {
   "codemirror_mode": {
    "name": "ipython",
    "version": 3
   },
   "file_extension": ".py",
   "mimetype": "text/x-python",
   "name": "python",
   "nbconvert_exporter": "python",
   "pygments_lexer": "ipython3",
   "version": "3.12.7"
  }
 },
 "nbformat": 4,
 "nbformat_minor": 5
}
